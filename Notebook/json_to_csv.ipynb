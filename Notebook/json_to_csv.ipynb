{
 "cells": [
  {
   "cell_type": "code",
   "execution_count": 2,
   "id": "f4b5e3d5",
   "metadata": {
    "ExecuteTime": {
     "end_time": "2022-08-23T06:21:45.197777Z",
     "start_time": "2022-08-23T06:21:44.912529Z"
    }
   },
   "outputs": [],
   "source": [
    "import pandas as pd\n",
    "import json"
   ]
  },
  {
   "cell_type": "code",
   "execution_count": 2,
   "id": "def0a7fe",
   "metadata": {
    "ExecuteTime": {
     "end_time": "2022-08-23T03:55:36.585557Z",
     "start_time": "2022-08-23T03:55:36.310136Z"
    }
   },
   "outputs": [],
   "source": [
    "data = pd.read_json('./user-item-interaction.json')\n",
    "\n",
    "data.to_csv('./user-item-interaction.csv')"
   ]
  },
  {
   "cell_type": "code",
   "execution_count": 3,
   "id": "f1d68481",
   "metadata": {
    "ExecuteTime": {
     "end_time": "2022-08-23T03:56:00.991432Z",
     "start_time": "2022-08-23T03:56:00.923006Z"
    }
   },
   "outputs": [],
   "source": [
    "df = pd.read_csv('./user-item-interaction.csv')"
   ]
  },
  {
   "cell_type": "code",
   "execution_count": 5,
   "id": "c51ffcc4",
   "metadata": {
    "ExecuteTime": {
     "end_time": "2022-08-23T03:56:09.970167Z",
     "start_time": "2022-08-23T03:56:09.950543Z"
    }
   },
   "outputs": [
    {
     "data": {
      "text/html": [
       "<div>\n",
       "<style scoped>\n",
       "    .dataframe tbody tr th:only-of-type {\n",
       "        vertical-align: middle;\n",
       "    }\n",
       "\n",
       "    .dataframe tbody tr th {\n",
       "        vertical-align: top;\n",
       "    }\n",
       "\n",
       "    .dataframe thead th {\n",
       "        text-align: right;\n",
       "    }\n",
       "</style>\n",
       "<table border=\"1\" class=\"dataframe\">\n",
       "  <thead>\n",
       "    <tr style=\"text-align: right;\">\n",
       "      <th></th>\n",
       "      <th>Unnamed: 0</th>\n",
       "      <th>USER_ID</th>\n",
       "      <th>ITEM_ID</th>\n",
       "      <th>TIMESTAMP</th>\n",
       "      <th>USER_LOGIN</th>\n",
       "      <th>LOCATION</th>\n",
       "    </tr>\n",
       "  </thead>\n",
       "  <tbody>\n",
       "    <tr>\n",
       "      <th>0</th>\n",
       "      <td>0</td>\n",
       "      <td>298</td>\n",
       "      <td>474</td>\n",
       "      <td>1998-01-07 14:20:06</td>\n",
       "      <td>booker12</td>\n",
       "      <td>Fengping</td>\n",
       "    </tr>\n",
       "    <tr>\n",
       "      <th>1</th>\n",
       "      <td>1</td>\n",
       "      <td>253</td>\n",
       "      <td>465</td>\n",
       "      <td>1998-04-03 18:34:27</td>\n",
       "      <td>grey07</td>\n",
       "      <td>Jembe Timur</td>\n",
       "    </tr>\n",
       "    <tr>\n",
       "      <th>2</th>\n",
       "      <td>2</td>\n",
       "      <td>286</td>\n",
       "      <td>1014</td>\n",
       "      <td>1997-11-17 15:38:45</td>\n",
       "      <td>johnson81</td>\n",
       "      <td>Schiltigheim</td>\n",
       "    </tr>\n",
       "    <tr>\n",
       "      <th>3</th>\n",
       "      <td>3</td>\n",
       "      <td>200</td>\n",
       "      <td>222</td>\n",
       "      <td>1997-10-05 09:05:40</td>\n",
       "      <td>jenkins46</td>\n",
       "      <td>Karawatung</td>\n",
       "    </tr>\n",
       "    <tr>\n",
       "      <th>4</th>\n",
       "      <td>4</td>\n",
       "      <td>122</td>\n",
       "      <td>387</td>\n",
       "      <td>1997-11-11 17:47:39</td>\n",
       "      <td>smith79</td>\n",
       "      <td>Bicurga</td>\n",
       "    </tr>\n",
       "    <tr>\n",
       "      <th>5</th>\n",
       "      <td>5</td>\n",
       "      <td>291</td>\n",
       "      <td>1042</td>\n",
       "      <td>1997-09-21 09:42:24</td>\n",
       "      <td>avose0</td>\n",
       "      <td>Nonggunong</td>\n",
       "    </tr>\n",
       "    <tr>\n",
       "      <th>6</th>\n",
       "      <td>6</td>\n",
       "      <td>119</td>\n",
       "      <td>392</td>\n",
       "      <td>1998-01-30 16:13:34</td>\n",
       "      <td>tlandon1</td>\n",
       "      <td>Moosomin</td>\n",
       "    </tr>\n",
       "    <tr>\n",
       "      <th>7</th>\n",
       "      <td>7</td>\n",
       "      <td>167</td>\n",
       "      <td>486</td>\n",
       "      <td>1998-04-16 14:54:12</td>\n",
       "      <td>kkynoch2</td>\n",
       "      <td>Temizhbekskaya</td>\n",
       "    </tr>\n",
       "    <tr>\n",
       "      <th>8</th>\n",
       "      <td>8</td>\n",
       "      <td>299</td>\n",
       "      <td>144</td>\n",
       "      <td>1997-10-26 15:55:20</td>\n",
       "      <td>wlongbone3</td>\n",
       "      <td>Gardutanjak</td>\n",
       "    </tr>\n",
       "    <tr>\n",
       "      <th>9</th>\n",
       "      <td>9</td>\n",
       "      <td>308</td>\n",
       "      <td>1</td>\n",
       "      <td>1998-02-17 17:28:52</td>\n",
       "      <td>dparkyn4</td>\n",
       "      <td>Sanguanzhai</td>\n",
       "    </tr>\n",
       "  </tbody>\n",
       "</table>\n",
       "</div>"
      ],
      "text/plain": [
       "   Unnamed: 0  USER_ID  ITEM_ID            TIMESTAMP  USER_LOGIN  \\\n",
       "0           0      298      474  1998-01-07 14:20:06    booker12   \n",
       "1           1      253      465  1998-04-03 18:34:27      grey07   \n",
       "2           2      286     1014  1997-11-17 15:38:45   johnson81   \n",
       "3           3      200      222  1997-10-05 09:05:40   jenkins46   \n",
       "4           4      122      387  1997-11-11 17:47:39     smith79   \n",
       "5           5      291     1042  1997-09-21 09:42:24      avose0   \n",
       "6           6      119      392  1998-01-30 16:13:34    tlandon1   \n",
       "7           7      167      486  1998-04-16 14:54:12    kkynoch2   \n",
       "8           8      299      144  1997-10-26 15:55:20  wlongbone3   \n",
       "9           9      308        1  1998-02-17 17:28:52    dparkyn4   \n",
       "\n",
       "         LOCATION  \n",
       "0        Fengping  \n",
       "1     Jembe Timur  \n",
       "2    Schiltigheim  \n",
       "3      Karawatung  \n",
       "4         Bicurga  \n",
       "5      Nonggunong  \n",
       "6        Moosomin  \n",
       "7  Temizhbekskaya  \n",
       "8     Gardutanjak  \n",
       "9     Sanguanzhai  "
      ]
     },
     "execution_count": 5,
     "metadata": {},
     "output_type": "execute_result"
    }
   ],
   "source": [
    "df.head(10)"
   ]
  },
  {
   "cell_type": "code",
   "execution_count": 6,
   "id": "a5a6c516",
   "metadata": {
    "ExecuteTime": {
     "end_time": "2022-08-23T04:10:04.179138Z",
     "start_time": "2022-08-23T04:10:04.161438Z"
    }
   },
   "outputs": [],
   "source": [
    "df.drop(['Unnamed: 0'], axis = 1, inplace = True)"
   ]
  },
  {
   "cell_type": "code",
   "execution_count": 8,
   "id": "4fe7facd",
   "metadata": {
    "ExecuteTime": {
     "end_time": "2022-08-23T04:10:20.553045Z",
     "start_time": "2022-08-23T04:10:20.536046Z"
    },
    "scrolled": true
   },
   "outputs": [
    {
     "data": {
      "text/html": [
       "<div>\n",
       "<style scoped>\n",
       "    .dataframe tbody tr th:only-of-type {\n",
       "        vertical-align: middle;\n",
       "    }\n",
       "\n",
       "    .dataframe tbody tr th {\n",
       "        vertical-align: top;\n",
       "    }\n",
       "\n",
       "    .dataframe thead th {\n",
       "        text-align: right;\n",
       "    }\n",
       "</style>\n",
       "<table border=\"1\" class=\"dataframe\">\n",
       "  <thead>\n",
       "    <tr style=\"text-align: right;\">\n",
       "      <th></th>\n",
       "      <th>USER_ID</th>\n",
       "      <th>ITEM_ID</th>\n",
       "      <th>TIMESTAMP</th>\n",
       "      <th>USER_LOGIN</th>\n",
       "      <th>LOCATION</th>\n",
       "    </tr>\n",
       "  </thead>\n",
       "  <tbody>\n",
       "    <tr>\n",
       "      <th>0</th>\n",
       "      <td>298</td>\n",
       "      <td>474</td>\n",
       "      <td>1998-01-07 14:20:06</td>\n",
       "      <td>booker12</td>\n",
       "      <td>Fengping</td>\n",
       "    </tr>\n",
       "    <tr>\n",
       "      <th>1</th>\n",
       "      <td>253</td>\n",
       "      <td>465</td>\n",
       "      <td>1998-04-03 18:34:27</td>\n",
       "      <td>grey07</td>\n",
       "      <td>Jembe Timur</td>\n",
       "    </tr>\n",
       "    <tr>\n",
       "      <th>2</th>\n",
       "      <td>286</td>\n",
       "      <td>1014</td>\n",
       "      <td>1997-11-17 15:38:45</td>\n",
       "      <td>johnson81</td>\n",
       "      <td>Schiltigheim</td>\n",
       "    </tr>\n",
       "    <tr>\n",
       "      <th>3</th>\n",
       "      <td>200</td>\n",
       "      <td>222</td>\n",
       "      <td>1997-10-05 09:05:40</td>\n",
       "      <td>jenkins46</td>\n",
       "      <td>Karawatung</td>\n",
       "    </tr>\n",
       "    <tr>\n",
       "      <th>4</th>\n",
       "      <td>122</td>\n",
       "      <td>387</td>\n",
       "      <td>1997-11-11 17:47:39</td>\n",
       "      <td>smith79</td>\n",
       "      <td>Bicurga</td>\n",
       "    </tr>\n",
       "    <tr>\n",
       "      <th>...</th>\n",
       "      <td>...</td>\n",
       "      <td>...</td>\n",
       "      <td>...</td>\n",
       "      <td>...</td>\n",
       "      <td>...</td>\n",
       "    </tr>\n",
       "    <tr>\n",
       "      <th>55370</th>\n",
       "      <td>421</td>\n",
       "      <td>498</td>\n",
       "      <td>1998-04-10 20:49:04</td>\n",
       "      <td>hpendall9y</td>\n",
       "      <td>Moissy-Cramayel</td>\n",
       "    </tr>\n",
       "    <tr>\n",
       "      <th>55371</th>\n",
       "      <td>495</td>\n",
       "      <td>1091</td>\n",
       "      <td>1998-02-28 03:45:03</td>\n",
       "      <td>hjarnell9z</td>\n",
       "      <td>Montb�liard</td>\n",
       "    </tr>\n",
       "    <tr>\n",
       "      <th>55372</th>\n",
       "      <td>806</td>\n",
       "      <td>421</td>\n",
       "      <td>1997-12-17 20:01:37</td>\n",
       "      <td>rwoodrougha0</td>\n",
       "      <td>Zeya</td>\n",
       "    </tr>\n",
       "    <tr>\n",
       "      <th>55373</th>\n",
       "      <td>676</td>\n",
       "      <td>538</td>\n",
       "      <td>1998-04-16 00:10:37</td>\n",
       "      <td>bfitzroya1</td>\n",
       "      <td>Victoria</td>\n",
       "    </tr>\n",
       "    <tr>\n",
       "      <th>55374</th>\n",
       "      <td>716</td>\n",
       "      <td>204</td>\n",
       "      <td>1997-11-17 19:39:03</td>\n",
       "      <td>emunnisa2</td>\n",
       "      <td>Chai Badan</td>\n",
       "    </tr>\n",
       "  </tbody>\n",
       "</table>\n",
       "<p>55375 rows × 5 columns</p>\n",
       "</div>"
      ],
      "text/plain": [
       "       USER_ID  ITEM_ID            TIMESTAMP    USER_LOGIN         LOCATION\n",
       "0          298      474  1998-01-07 14:20:06      booker12         Fengping\n",
       "1          253      465  1998-04-03 18:34:27        grey07      Jembe Timur\n",
       "2          286     1014  1997-11-17 15:38:45     johnson81     Schiltigheim\n",
       "3          200      222  1997-10-05 09:05:40     jenkins46       Karawatung\n",
       "4          122      387  1997-11-11 17:47:39       smith79          Bicurga\n",
       "...        ...      ...                  ...           ...              ...\n",
       "55370      421      498  1998-04-10 20:49:04    hpendall9y  Moissy-Cramayel\n",
       "55371      495     1091  1998-02-28 03:45:03    hjarnell9z      Montb�liard\n",
       "55372      806      421  1997-12-17 20:01:37  rwoodrougha0             Zeya\n",
       "55373      676      538  1998-04-16 00:10:37    bfitzroya1         Victoria\n",
       "55374      716      204  1997-11-17 19:39:03     emunnisa2       Chai Badan\n",
       "\n",
       "[55375 rows x 5 columns]"
      ]
     },
     "execution_count": 8,
     "metadata": {},
     "output_type": "execute_result"
    }
   ],
   "source": [
    "df"
   ]
  },
  {
   "cell_type": "code",
   "execution_count": 11,
   "id": "e7e8588a",
   "metadata": {
    "ExecuteTime": {
     "end_time": "2022-08-23T04:14:02.408059Z",
     "start_time": "2022-08-23T04:14:02.399232Z"
    }
   },
   "outputs": [],
   "source": [
    "df.drop(['USER_LOGIN', 'LOCATION'], axis = 1, inplace = True)"
   ]
  },
  {
   "cell_type": "code",
   "execution_count": 12,
   "id": "30f8516d",
   "metadata": {
    "ExecuteTime": {
     "end_time": "2022-08-23T04:14:07.042806Z",
     "start_time": "2022-08-23T04:14:07.030538Z"
    }
   },
   "outputs": [
    {
     "data": {
      "text/html": [
       "<div>\n",
       "<style scoped>\n",
       "    .dataframe tbody tr th:only-of-type {\n",
       "        vertical-align: middle;\n",
       "    }\n",
       "\n",
       "    .dataframe tbody tr th {\n",
       "        vertical-align: top;\n",
       "    }\n",
       "\n",
       "    .dataframe thead th {\n",
       "        text-align: right;\n",
       "    }\n",
       "</style>\n",
       "<table border=\"1\" class=\"dataframe\">\n",
       "  <thead>\n",
       "    <tr style=\"text-align: right;\">\n",
       "      <th></th>\n",
       "      <th>USER_ID</th>\n",
       "      <th>ITEM_ID</th>\n",
       "      <th>TIMESTAMP</th>\n",
       "    </tr>\n",
       "  </thead>\n",
       "  <tbody>\n",
       "    <tr>\n",
       "      <th>0</th>\n",
       "      <td>298</td>\n",
       "      <td>474</td>\n",
       "      <td>1998-01-07 14:20:06</td>\n",
       "    </tr>\n",
       "    <tr>\n",
       "      <th>1</th>\n",
       "      <td>253</td>\n",
       "      <td>465</td>\n",
       "      <td>1998-04-03 18:34:27</td>\n",
       "    </tr>\n",
       "    <tr>\n",
       "      <th>2</th>\n",
       "      <td>286</td>\n",
       "      <td>1014</td>\n",
       "      <td>1997-11-17 15:38:45</td>\n",
       "    </tr>\n",
       "    <tr>\n",
       "      <th>3</th>\n",
       "      <td>200</td>\n",
       "      <td>222</td>\n",
       "      <td>1997-10-05 09:05:40</td>\n",
       "    </tr>\n",
       "    <tr>\n",
       "      <th>4</th>\n",
       "      <td>122</td>\n",
       "      <td>387</td>\n",
       "      <td>1997-11-11 17:47:39</td>\n",
       "    </tr>\n",
       "    <tr>\n",
       "      <th>...</th>\n",
       "      <td>...</td>\n",
       "      <td>...</td>\n",
       "      <td>...</td>\n",
       "    </tr>\n",
       "    <tr>\n",
       "      <th>55370</th>\n",
       "      <td>421</td>\n",
       "      <td>498</td>\n",
       "      <td>1998-04-10 20:49:04</td>\n",
       "    </tr>\n",
       "    <tr>\n",
       "      <th>55371</th>\n",
       "      <td>495</td>\n",
       "      <td>1091</td>\n",
       "      <td>1998-02-28 03:45:03</td>\n",
       "    </tr>\n",
       "    <tr>\n",
       "      <th>55372</th>\n",
       "      <td>806</td>\n",
       "      <td>421</td>\n",
       "      <td>1997-12-17 20:01:37</td>\n",
       "    </tr>\n",
       "    <tr>\n",
       "      <th>55373</th>\n",
       "      <td>676</td>\n",
       "      <td>538</td>\n",
       "      <td>1998-04-16 00:10:37</td>\n",
       "    </tr>\n",
       "    <tr>\n",
       "      <th>55374</th>\n",
       "      <td>716</td>\n",
       "      <td>204</td>\n",
       "      <td>1997-11-17 19:39:03</td>\n",
       "    </tr>\n",
       "  </tbody>\n",
       "</table>\n",
       "<p>55375 rows × 3 columns</p>\n",
       "</div>"
      ],
      "text/plain": [
       "       USER_ID  ITEM_ID            TIMESTAMP\n",
       "0          298      474  1998-01-07 14:20:06\n",
       "1          253      465  1998-04-03 18:34:27\n",
       "2          286     1014  1997-11-17 15:38:45\n",
       "3          200      222  1997-10-05 09:05:40\n",
       "4          122      387  1997-11-11 17:47:39\n",
       "...        ...      ...                  ...\n",
       "55370      421      498  1998-04-10 20:49:04\n",
       "55371      495     1091  1998-02-28 03:45:03\n",
       "55372      806      421  1997-12-17 20:01:37\n",
       "55373      676      538  1998-04-16 00:10:37\n",
       "55374      716      204  1997-11-17 19:39:03\n",
       "\n",
       "[55375 rows x 3 columns]"
      ]
     },
     "execution_count": 12,
     "metadata": {},
     "output_type": "execute_result"
    }
   ],
   "source": [
    "df"
   ]
  },
  {
   "cell_type": "code",
   "execution_count": 13,
   "id": "7766bb39",
   "metadata": {
    "ExecuteTime": {
     "end_time": "2022-08-23T04:14:13.287756Z",
     "start_time": "2022-08-23T04:14:13.181150Z"
    }
   },
   "outputs": [],
   "source": [
    "df.to_csv('./user-item-interaction.csv', index='USER_ID')"
   ]
  },
  {
   "cell_type": "code",
   "execution_count": 4,
   "id": "a99e28a0",
   "metadata": {
    "ExecuteTime": {
     "end_time": "2022-08-23T04:46:53.464039Z",
     "start_time": "2022-08-23T04:46:53.400468Z"
    }
   },
   "outputs": [
    {
     "data": {
      "text/plain": [
       "<bound method NDFrame.head of        Unnamed: 0  USER_ID  ITEM_ID            TIMESTAMP\n",
       "0               0      298      474  1998-01-07 14:20:06\n",
       "1               1      253      465  1998-04-03 18:34:27\n",
       "2               2      286     1014  1997-11-17 15:38:45\n",
       "3               3      200      222  1997-10-05 09:05:40\n",
       "4               4      122      387  1997-11-11 17:47:39\n",
       "...           ...      ...      ...                  ...\n",
       "55370       55370      421      498  1998-04-10 20:49:04\n",
       "55371       55371      495     1091  1998-02-28 03:45:03\n",
       "55372       55372      806      421  1997-12-17 20:01:37\n",
       "55373       55373      676      538  1998-04-16 00:10:37\n",
       "55374       55374      716      204  1997-11-17 19:39:03\n",
       "\n",
       "[55375 rows x 4 columns]>"
      ]
     },
     "execution_count": 4,
     "metadata": {},
     "output_type": "execute_result"
    }
   ],
   "source": [
    "df = pd.read_csv('./user-item-interaction.csv')\n",
    "df.head"
   ]
  },
  {
   "cell_type": "code",
   "execution_count": 6,
   "id": "c40f2192",
   "metadata": {
    "ExecuteTime": {
     "end_time": "2022-08-23T04:56:55.833514Z",
     "start_time": "2022-08-23T04:56:55.587965Z"
    }
   },
   "outputs": [
    {
     "data": {
      "text/html": [
       "<div>\n",
       "<style scoped>\n",
       "    .dataframe tbody tr th:only-of-type {\n",
       "        vertical-align: middle;\n",
       "    }\n",
       "\n",
       "    .dataframe tbody tr th {\n",
       "        vertical-align: top;\n",
       "    }\n",
       "\n",
       "    .dataframe thead th {\n",
       "        text-align: right;\n",
       "    }\n",
       "</style>\n",
       "<table border=\"1\" class=\"dataframe\">\n",
       "  <thead>\n",
       "    <tr style=\"text-align: right;\">\n",
       "      <th></th>\n",
       "      <th>USER_ID</th>\n",
       "      <th>ITEM_ID</th>\n",
       "      <th>TIMESTAMP</th>\n",
       "      <th>USER_LOGIN</th>\n",
       "      <th>LOCATION</th>\n",
       "    </tr>\n",
       "  </thead>\n",
       "  <tbody>\n",
       "    <tr>\n",
       "      <th>0</th>\n",
       "      <td>298</td>\n",
       "      <td>474</td>\n",
       "      <td>884182806</td>\n",
       "      <td>booker12</td>\n",
       "      <td>Fengping</td>\n",
       "    </tr>\n",
       "    <tr>\n",
       "      <th>1</th>\n",
       "      <td>253</td>\n",
       "      <td>465</td>\n",
       "      <td>891628467</td>\n",
       "      <td>grey07</td>\n",
       "      <td>Jembe Timur</td>\n",
       "    </tr>\n",
       "    <tr>\n",
       "      <th>2</th>\n",
       "      <td>286</td>\n",
       "      <td>1014</td>\n",
       "      <td>879781125</td>\n",
       "      <td>johnson81</td>\n",
       "      <td>Schiltigheim</td>\n",
       "    </tr>\n",
       "    <tr>\n",
       "      <th>3</th>\n",
       "      <td>200</td>\n",
       "      <td>222</td>\n",
       "      <td>876042340</td>\n",
       "      <td>jenkins46</td>\n",
       "      <td>Karawatung</td>\n",
       "    </tr>\n",
       "    <tr>\n",
       "      <th>4</th>\n",
       "      <td>122</td>\n",
       "      <td>387</td>\n",
       "      <td>879270459</td>\n",
       "      <td>smith79</td>\n",
       "      <td>Bicurga</td>\n",
       "    </tr>\n",
       "    <tr>\n",
       "      <th>...</th>\n",
       "      <td>...</td>\n",
       "      <td>...</td>\n",
       "      <td>...</td>\n",
       "      <td>...</td>\n",
       "      <td>...</td>\n",
       "    </tr>\n",
       "    <tr>\n",
       "      <th>55370</th>\n",
       "      <td>421</td>\n",
       "      <td>498</td>\n",
       "      <td>892241344</td>\n",
       "      <td>hpendall9y</td>\n",
       "      <td>Moissy-Cramayel</td>\n",
       "    </tr>\n",
       "    <tr>\n",
       "      <th>55371</th>\n",
       "      <td>495</td>\n",
       "      <td>1091</td>\n",
       "      <td>888637503</td>\n",
       "      <td>hjarnell9z</td>\n",
       "      <td>Montb�liard</td>\n",
       "    </tr>\n",
       "    <tr>\n",
       "      <th>55372</th>\n",
       "      <td>806</td>\n",
       "      <td>421</td>\n",
       "      <td>882388897</td>\n",
       "      <td>rwoodrougha0</td>\n",
       "      <td>Zeya</td>\n",
       "    </tr>\n",
       "    <tr>\n",
       "      <th>55373</th>\n",
       "      <td>676</td>\n",
       "      <td>538</td>\n",
       "      <td>892685437</td>\n",
       "      <td>bfitzroya1</td>\n",
       "      <td>Victoria</td>\n",
       "    </tr>\n",
       "    <tr>\n",
       "      <th>55374</th>\n",
       "      <td>716</td>\n",
       "      <td>204</td>\n",
       "      <td>879795543</td>\n",
       "      <td>emunnisa2</td>\n",
       "      <td>Chai Badan</td>\n",
       "    </tr>\n",
       "  </tbody>\n",
       "</table>\n",
       "<p>55375 rows × 5 columns</p>\n",
       "</div>"
      ],
      "text/plain": [
       "       USER_ID  ITEM_ID  TIMESTAMP    USER_LOGIN         LOCATION\n",
       "0          298      474  884182806      booker12         Fengping\n",
       "1          253      465  891628467        grey07      Jembe Timur\n",
       "2          286     1014  879781125     johnson81     Schiltigheim\n",
       "3          200      222  876042340     jenkins46       Karawatung\n",
       "4          122      387  879270459       smith79          Bicurga\n",
       "...        ...      ...        ...           ...              ...\n",
       "55370      421      498  892241344    hpendall9y  Moissy-Cramayel\n",
       "55371      495     1091  888637503    hjarnell9z      Montb�liard\n",
       "55372      806      421  882388897  rwoodrougha0             Zeya\n",
       "55373      676      538  892685437    bfitzroya1         Victoria\n",
       "55374      716      204  879795543     emunnisa2       Chai Badan\n",
       "\n",
       "[55375 rows x 5 columns]"
      ]
     },
     "execution_count": 6,
     "metadata": {},
     "output_type": "execute_result"
    }
   ],
   "source": [
    "data = pd.read_json('./user-item-interaction.json')\n",
    "\n",
    "data = pd.read_json('./user-item-interaction.json', convert_dates=False) \n",
    "\n",
    "data"
   ]
  },
  {
   "cell_type": "code",
   "execution_count": 7,
   "id": "f90d4700",
   "metadata": {
    "ExecuteTime": {
     "end_time": "2022-08-23T04:57:27.149074Z",
     "start_time": "2022-08-23T04:57:27.125208Z"
    }
   },
   "outputs": [],
   "source": [
    "data.drop(['USER_LOGIN', 'LOCATION'], axis = 1, inplace = True)"
   ]
  },
  {
   "cell_type": "code",
   "execution_count": 8,
   "id": "f27af710",
   "metadata": {
    "ExecuteTime": {
     "end_time": "2022-08-23T04:57:29.524872Z",
     "start_time": "2022-08-23T04:57:29.505481Z"
    }
   },
   "outputs": [
    {
     "data": {
      "text/html": [
       "<div>\n",
       "<style scoped>\n",
       "    .dataframe tbody tr th:only-of-type {\n",
       "        vertical-align: middle;\n",
       "    }\n",
       "\n",
       "    .dataframe tbody tr th {\n",
       "        vertical-align: top;\n",
       "    }\n",
       "\n",
       "    .dataframe thead th {\n",
       "        text-align: right;\n",
       "    }\n",
       "</style>\n",
       "<table border=\"1\" class=\"dataframe\">\n",
       "  <thead>\n",
       "    <tr style=\"text-align: right;\">\n",
       "      <th></th>\n",
       "      <th>USER_ID</th>\n",
       "      <th>ITEM_ID</th>\n",
       "      <th>TIMESTAMP</th>\n",
       "    </tr>\n",
       "  </thead>\n",
       "  <tbody>\n",
       "    <tr>\n",
       "      <th>0</th>\n",
       "      <td>298</td>\n",
       "      <td>474</td>\n",
       "      <td>884182806</td>\n",
       "    </tr>\n",
       "    <tr>\n",
       "      <th>1</th>\n",
       "      <td>253</td>\n",
       "      <td>465</td>\n",
       "      <td>891628467</td>\n",
       "    </tr>\n",
       "    <tr>\n",
       "      <th>2</th>\n",
       "      <td>286</td>\n",
       "      <td>1014</td>\n",
       "      <td>879781125</td>\n",
       "    </tr>\n",
       "    <tr>\n",
       "      <th>3</th>\n",
       "      <td>200</td>\n",
       "      <td>222</td>\n",
       "      <td>876042340</td>\n",
       "    </tr>\n",
       "    <tr>\n",
       "      <th>4</th>\n",
       "      <td>122</td>\n",
       "      <td>387</td>\n",
       "      <td>879270459</td>\n",
       "    </tr>\n",
       "    <tr>\n",
       "      <th>...</th>\n",
       "      <td>...</td>\n",
       "      <td>...</td>\n",
       "      <td>...</td>\n",
       "    </tr>\n",
       "    <tr>\n",
       "      <th>55370</th>\n",
       "      <td>421</td>\n",
       "      <td>498</td>\n",
       "      <td>892241344</td>\n",
       "    </tr>\n",
       "    <tr>\n",
       "      <th>55371</th>\n",
       "      <td>495</td>\n",
       "      <td>1091</td>\n",
       "      <td>888637503</td>\n",
       "    </tr>\n",
       "    <tr>\n",
       "      <th>55372</th>\n",
       "      <td>806</td>\n",
       "      <td>421</td>\n",
       "      <td>882388897</td>\n",
       "    </tr>\n",
       "    <tr>\n",
       "      <th>55373</th>\n",
       "      <td>676</td>\n",
       "      <td>538</td>\n",
       "      <td>892685437</td>\n",
       "    </tr>\n",
       "    <tr>\n",
       "      <th>55374</th>\n",
       "      <td>716</td>\n",
       "      <td>204</td>\n",
       "      <td>879795543</td>\n",
       "    </tr>\n",
       "  </tbody>\n",
       "</table>\n",
       "<p>55375 rows × 3 columns</p>\n",
       "</div>"
      ],
      "text/plain": [
       "       USER_ID  ITEM_ID  TIMESTAMP\n",
       "0          298      474  884182806\n",
       "1          253      465  891628467\n",
       "2          286     1014  879781125\n",
       "3          200      222  876042340\n",
       "4          122      387  879270459\n",
       "...        ...      ...        ...\n",
       "55370      421      498  892241344\n",
       "55371      495     1091  888637503\n",
       "55372      806      421  882388897\n",
       "55373      676      538  892685437\n",
       "55374      716      204  879795543\n",
       "\n",
       "[55375 rows x 3 columns]"
      ]
     },
     "execution_count": 8,
     "metadata": {},
     "output_type": "execute_result"
    }
   ],
   "source": [
    "data"
   ]
  },
  {
   "cell_type": "code",
   "execution_count": 9,
   "id": "d955950e",
   "metadata": {
    "ExecuteTime": {
     "end_time": "2022-08-23T04:57:50.314538Z",
     "start_time": "2022-08-23T04:57:50.191220Z"
    }
   },
   "outputs": [],
   "source": [
    "data.to_csv('./user-item-interaction.csv', index='USER_ID')"
   ]
  },
  {
   "cell_type": "code",
   "execution_count": 3,
   "id": "b4d92136",
   "metadata": {
    "ExecuteTime": {
     "end_time": "2022-08-23T06:23:52.175625Z",
     "start_time": "2022-08-23T06:23:51.973546Z"
    }
   },
   "outputs": [],
   "source": [
    "data = pd.read_csv('../data/user-item-interaction.csv')"
   ]
  },
  {
   "cell_type": "code",
   "execution_count": 7,
   "id": "d2719ae2",
   "metadata": {
    "ExecuteTime": {
     "end_time": "2022-08-23T06:26:27.672382Z",
     "start_time": "2022-08-23T06:26:27.659805Z"
    }
   },
   "outputs": [
    {
     "data": {
      "text/html": [
       "<div>\n",
       "<style scoped>\n",
       "    .dataframe tbody tr th:only-of-type {\n",
       "        vertical-align: middle;\n",
       "    }\n",
       "\n",
       "    .dataframe tbody tr th {\n",
       "        vertical-align: top;\n",
       "    }\n",
       "\n",
       "    .dataframe thead th {\n",
       "        text-align: right;\n",
       "    }\n",
       "</style>\n",
       "<table border=\"1\" class=\"dataframe\">\n",
       "  <thead>\n",
       "    <tr style=\"text-align: right;\">\n",
       "      <th></th>\n",
       "      <th>order_id</th>\n",
       "      <th>user_id</th>\n",
       "      <th>product_id</th>\n",
       "    </tr>\n",
       "  </thead>\n",
       "  <tbody>\n",
       "    <tr>\n",
       "      <th>0</th>\n",
       "      <td>1187899</td>\n",
       "      <td>1</td>\n",
       "      <td>196.0</td>\n",
       "    </tr>\n",
       "    <tr>\n",
       "      <th>1</th>\n",
       "      <td>1187899</td>\n",
       "      <td>1</td>\n",
       "      <td>25133.0</td>\n",
       "    </tr>\n",
       "    <tr>\n",
       "      <th>2</th>\n",
       "      <td>1187899</td>\n",
       "      <td>1</td>\n",
       "      <td>38928.0</td>\n",
       "    </tr>\n",
       "    <tr>\n",
       "      <th>3</th>\n",
       "      <td>1187899</td>\n",
       "      <td>1</td>\n",
       "      <td>26405.0</td>\n",
       "    </tr>\n",
       "    <tr>\n",
       "      <th>4</th>\n",
       "      <td>1187899</td>\n",
       "      <td>1</td>\n",
       "      <td>39657.0</td>\n",
       "    </tr>\n",
       "    <tr>\n",
       "      <th>...</th>\n",
       "      <td>...</td>\n",
       "      <td>...</td>\n",
       "      <td>...</td>\n",
       "    </tr>\n",
       "    <tr>\n",
       "      <th>1384612</th>\n",
       "      <td>272231</td>\n",
       "      <td>206209</td>\n",
       "      <td>40603.0</td>\n",
       "    </tr>\n",
       "    <tr>\n",
       "      <th>1384613</th>\n",
       "      <td>272231</td>\n",
       "      <td>206209</td>\n",
       "      <td>15655.0</td>\n",
       "    </tr>\n",
       "    <tr>\n",
       "      <th>1384614</th>\n",
       "      <td>272231</td>\n",
       "      <td>206209</td>\n",
       "      <td>42606.0</td>\n",
       "    </tr>\n",
       "    <tr>\n",
       "      <th>1384615</th>\n",
       "      <td>272231</td>\n",
       "      <td>206209</td>\n",
       "      <td>37966.0</td>\n",
       "    </tr>\n",
       "    <tr>\n",
       "      <th>1384616</th>\n",
       "      <td>272231</td>\n",
       "      <td>206209</td>\n",
       "      <td>39216.0</td>\n",
       "    </tr>\n",
       "  </tbody>\n",
       "</table>\n",
       "<p>1384617 rows × 3 columns</p>\n",
       "</div>"
      ],
      "text/plain": [
       "         order_id  user_id  product_id\n",
       "0         1187899        1       196.0\n",
       "1         1187899        1     25133.0\n",
       "2         1187899        1     38928.0\n",
       "3         1187899        1     26405.0\n",
       "4         1187899        1     39657.0\n",
       "...           ...      ...         ...\n",
       "1384612    272231   206209     40603.0\n",
       "1384613    272231   206209     15655.0\n",
       "1384614    272231   206209     42606.0\n",
       "1384615    272231   206209     37966.0\n",
       "1384616    272231   206209     39216.0\n",
       "\n",
       "[1384617 rows x 3 columns]"
      ]
     },
     "execution_count": 7,
     "metadata": {},
     "output_type": "execute_result"
    }
   ],
   "source": [
    "data"
   ]
  },
  {
   "cell_type": "code",
   "execution_count": 6,
   "id": "edfa6ceb",
   "metadata": {
    "ExecuteTime": {
     "end_time": "2022-08-23T06:26:08.007113Z",
     "start_time": "2022-08-23T06:26:07.966045Z"
    }
   },
   "outputs": [
    {
     "data": {
      "text/plain": [
       "131209"
      ]
     },
     "execution_count": 6,
     "metadata": {},
     "output_type": "execute_result"
    }
   ],
   "source": [
    "data['order_id'].nunique()"
   ]
  },
  {
   "cell_type": "code",
   "execution_count": null,
   "id": "31dad7de",
   "metadata": {},
   "outputs": [],
   "source": []
  }
 ],
 "metadata": {
  "kernelspec": {
   "display_name": "Python 3.9.13 ('base')",
   "language": "python",
   "name": "python3"
  },
  "language_info": {
   "codemirror_mode": {
    "name": "ipython",
    "version": 3
   },
   "file_extension": ".py",
   "mimetype": "text/x-python",
   "name": "python",
   "nbconvert_exporter": "python",
   "pygments_lexer": "ipython3",
   "version": "3.9.13"
  },
  "toc": {
   "base_numbering": 1,
   "nav_menu": {},
   "number_sections": true,
   "sideBar": true,
   "skip_h1_title": false,
   "title_cell": "Table of Contents",
   "title_sidebar": "Contents",
   "toc_cell": false,
   "toc_position": {},
   "toc_section_display": true,
   "toc_window_display": false
  },
  "vscode": {
   "interpreter": {
    "hash": "c6e4e9f98eb68ad3b7c296f83d20e6de614cb42e90992a65aa266555a3137d0d"
   }
  }
 },
 "nbformat": 4,
 "nbformat_minor": 5
}
